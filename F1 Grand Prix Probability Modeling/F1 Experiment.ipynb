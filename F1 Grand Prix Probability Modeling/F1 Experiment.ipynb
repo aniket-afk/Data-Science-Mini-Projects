{
 "cells": [
  {
   "cell_type": "markdown",
   "id": "bdfa6165",
   "metadata": {},
   "source": [
    "#### What is the amount of wins for either of the two drivers that would allow you to conclude that one of them is better than the other, assuming a significance level of 5% (essentially, find the rejection regions or the confidence interval for our MV/LV experiment)?"
   ]
  },
  {
   "cell_type": "code",
   "execution_count": 5,
   "id": "43f9c202",
   "metadata": {},
   "outputs": [],
   "source": [
    "import numpy as np\n",
    "import pandas as pd\n",
    "import scipy.stats as stats\n",
    "import statsmodels.stats.api as sms\n",
    "import matplotlib as mpl\n",
    "import matplotlib.pyplot as plt\n",
    "import seaborn as sns\n",
    "from math import ceil\n",
    "\n",
    "%matplotlib inline"
   ]
  },
  {
   "cell_type": "markdown",
   "id": "f8bc13c5",
   "metadata": {},
   "source": [
    "Let's simulate two sequences of 100 races, one where a driver wins 55 times, and the other were the same driver wins 50 times"
   ]
  },
  {
   "cell_type": "code",
   "execution_count": 6,
   "id": "50ec2f42",
   "metadata": {
    "scrolled": true
   },
   "outputs": [
    {
     "name": "stdout",
     "output_type": "stream",
     "text": [
      "[0, 1, 1, 1, 1, 0, 0, 0, 0, 1, 0, 1, 0, 0, 1, 1, 1, 1, 1, 0, 0, 1, 1, 0, 1, 0, 1, 0, 0, 1, 1, 0, 0, 0, 1, 1, 0, 1, 1, 0, 1, 1, 1, 1, 1, 0, 0, 1, 0, 0, 0, 1, 0, 1, 0, 0, 0, 1, 1, 0, 0, 0, 1, 0, 1, 0, 0, 0, 1, 1, 1, 0, 1, 0, 0, 0, 0, 0, 0, 0, 1, 1, 1, 1, 0, 1, 1, 1, 0, 0, 0, 1, 1, 1, 0, 1, 1, 0, 1, 0]\n"
     ]
    }
   ],
   "source": [
    "fifty_ones = [1] * 50\n",
    "fifty_zeros = [0] * 50\n",
    "one_hundred_races_with_50_wins = fifty_ones + fifty_zeros\n",
    "np.random.shuffle(one_hundred_races_with_50_wins)\n",
    "print(one_hundred_races_with_50_wins)"
   ]
  },
  {
   "cell_type": "markdown",
   "id": "81dccf3a",
   "metadata": {},
   "source": [
    "Let's simulate two sequences of 100 races, one where a driver wins 55 times, and the other were the same driver wins 55 times"
   ]
  },
  {
   "cell_type": "code",
   "execution_count": 7,
   "id": "308ea278",
   "metadata": {},
   "outputs": [
    {
     "name": "stdout",
     "output_type": "stream",
     "text": [
      "[0, 0, 0, 0, 1, 0, 0, 1, 0, 1, 1, 1, 1, 1, 1, 0, 1, 0, 0, 1, 0, 0, 1, 1, 1, 0, 0, 1, 0, 1, 1, 0, 0, 1, 1, 1, 1, 0, 0, 0, 0, 1, 1, 1, 1, 0, 1, 0, 0, 0, 0, 0, 1, 1, 1, 1, 0, 1, 1, 1, 0, 1, 1, 0, 0, 1, 1, 0, 1, 1, 1, 1, 1, 1, 0, 0, 1, 0, 0, 1, 0, 1, 0, 1, 0, 0, 0, 1, 1, 1, 1, 1, 0, 1, 1, 1, 1, 0, 0, 0]\n"
     ]
    }
   ],
   "source": [
    "fiftyfive_ones = [1] * 55\n",
    "fourtyfive_zeros = [0] * 45\n",
    "one_hundred_races_with_55_wins = fiftyfive_ones + fourtyfive_zeros\n",
    "np.random.shuffle(one_hundred_races_with_55_wins)\n",
    "print(one_hundred_races_with_55_wins)"
   ]
  },
  {
   "cell_type": "markdown",
   "id": "4157a12d",
   "metadata": {},
   "source": [
    "Let's simulate two sequences of 100 races, one where a driver wins 55 times, and the other were the same driver wins 60 times"
   ]
  },
  {
   "cell_type": "code",
   "execution_count": 8,
   "id": "64df85ea",
   "metadata": {},
   "outputs": [
    {
     "name": "stdout",
     "output_type": "stream",
     "text": [
      "[0, 0, 1, 1, 1, 0, 0, 1, 0, 0, 1, 1, 1, 1, 0, 0, 0, 0, 0, 1, 1, 1, 0, 1, 1, 0, 1, 1, 0, 1, 0, 0, 1, 1, 0, 1, 0, 1, 0, 1, 1, 0, 1, 1, 1, 1, 0, 1, 1, 1, 0, 1, 1, 0, 1, 1, 0, 1, 1, 1, 0, 1, 1, 1, 1, 1, 0, 0, 1, 1, 0, 1, 1, 0, 0, 0, 0, 1, 1, 1, 1, 0, 1, 1, 1, 1, 0, 0, 0, 1, 1, 1, 1, 0, 0, 1, 0, 1, 1, 0]\n"
     ]
    }
   ],
   "source": [
    "sixty_ones = [1] * 60\n",
    "fourty_zeros = [0] * 40\n",
    "one_hundred_races_with_60_wins = sixty_ones + fourty_zeros\n",
    "np.random.shuffle(one_hundred_races_with_60_wins)\n",
    "print(one_hundred_races_with_60_wins)"
   ]
  },
  {
   "cell_type": "markdown",
   "id": "9f3dc17b",
   "metadata": {},
   "source": [
    "Let's simulate two sequences of 100 races, one where a driver wins 55 times, and the other were the same driver wins 64 times"
   ]
  },
  {
   "cell_type": "code",
   "execution_count": 9,
   "id": "66785784",
   "metadata": {},
   "outputs": [
    {
     "name": "stdout",
     "output_type": "stream",
     "text": [
      "[1, 1, 1, 0, 1, 0, 1, 0, 0, 1, 1, 1, 1, 1, 0, 1, 1, 1, 1, 1, 1, 1, 1, 1, 1, 0, 0, 0, 1, 1, 1, 1, 1, 0, 0, 0, 0, 1, 1, 1, 0, 1, 1, 0, 1, 0, 1, 1, 0, 1, 0, 1, 1, 0, 0, 1, 0, 1, 1, 1, 1, 0, 1, 0, 1, 1, 0, 0, 0, 0, 0, 1, 1, 1, 0, 1, 0, 0, 1, 1, 1, 1, 1, 0, 0, 0, 1, 0, 1, 1, 0, 1, 1, 1, 1, 0, 1, 1, 1, 1]\n"
     ]
    }
   ],
   "source": [
    "sixtyfour_ones = [1] * 64\n",
    "thirtysix_zeros = [0] * 36\n",
    "one_hundred_races_with_64_wins = sixtyfour_ones + thirtysix_zeros\n",
    "np.random.shuffle(one_hundred_races_with_64_wins)\n",
    "print(one_hundred_races_with_64_wins)"
   ]
  },
  {
   "cell_type": "markdown",
   "id": "cc0eabb2",
   "metadata": {},
   "source": [
    "From scipy.stats we are using the ttest function to find if our hypothesis is correct or not. Taking the wins for lewis or max having equal probability we use the data values to get the p value which is close to the significance level of 0.05 i.e. 5%."
   ]
  },
  {
   "cell_type": "markdown",
   "id": "75ba7184",
   "metadata": {},
   "source": [
    "Looking at the ttest below we can see that if we assume values of 55wins for either max or lewis then the p value comes close to 50% which is too far away from the actual desired value 5%."
   ]
  },
  {
   "cell_type": "code",
   "execution_count": 10,
   "id": "d167d2ad",
   "metadata": {},
   "outputs": [
    {
     "data": {
      "text/plain": [
       "TtestResult(statistic=np.float64(0.7053278933842974), pvalue=np.float64(0.48143514316269365), df=np.float64(198.0))"
      ]
     },
     "execution_count": 10,
     "metadata": {},
     "output_type": "execute_result"
    }
   ],
   "source": [
    "stats.ttest_ind(a=one_hundred_races_with_55_wins , b= one_hundred_races_with_50_wins, equal_var=True) "
   ]
  },
  {
   "cell_type": "markdown",
   "id": "55c498f9",
   "metadata": {},
   "source": [
    "For the 60 wins to either lewis or max we can see that pvalue comes a little close to the desired value. But still it is not correct so we go ahead."
   ]
  },
  {
   "cell_type": "code",
   "execution_count": 11,
   "id": "05a27156",
   "metadata": {},
   "outputs": [
    {
     "data": {
      "text/plain": [
       "TtestResult(statistic=np.float64(1.421410624438028), pvalue=np.float64(0.15677053340775413), df=np.float64(198.0))"
      ]
     },
     "execution_count": 11,
     "metadata": {},
     "output_type": "execute_result"
    }
   ],
   "source": [
    "stats.ttest_ind(a=one_hundred_races_with_60_wins , b= one_hundred_races_with_50_wins, equal_var=True) "
   ]
  },
  {
   "cell_type": "markdown",
   "id": "f166439c",
   "metadata": {},
   "source": [
    "For 64 wins, we finally reach the 5% mark with 64 wins. That makes sense as our significance value is the same."
   ]
  },
  {
   "cell_type": "code",
   "execution_count": 12,
   "id": "157b1b10",
   "metadata": {},
   "outputs": [
    {
     "data": {
      "text/plain": [
       "TtestResult(statistic=np.float64(2.0097597007986314), pvalue=np.float64(0.04581400584048895), df=np.float64(198.0))"
      ]
     },
     "execution_count": 12,
     "metadata": {},
     "output_type": "execute_result"
    }
   ],
   "source": [
    "stats.ttest_ind(a=one_hundred_races_with_64_wins , b= one_hundred_races_with_50_wins, equal_var=True) "
   ]
  },
  {
   "cell_type": "code",
   "execution_count": 14,
   "id": "a1780a39",
   "metadata": {},
   "outputs": [
    {
     "data": {
      "text/html": [
       "<div>\n",
       "<style scoped>\n",
       "    .dataframe tbody tr th:only-of-type {\n",
       "        vertical-align: middle;\n",
       "    }\n",
       "\n",
       "    .dataframe tbody tr th {\n",
       "        vertical-align: top;\n",
       "    }\n",
       "\n",
       "    .dataframe thead th {\n",
       "        text-align: right;\n",
       "    }\n",
       "</style>\n",
       "<table border=\"1\" class=\"dataframe\">\n",
       "  <thead>\n",
       "    <tr style=\"text-align: right;\">\n",
       "      <th></th>\n",
       "      <th>T</th>\n",
       "      <th>dof</th>\n",
       "      <th>alternative</th>\n",
       "      <th>p-val</th>\n",
       "      <th>CI95%</th>\n",
       "      <th>cohen-d</th>\n",
       "      <th>BF10</th>\n",
       "      <th>power</th>\n",
       "    </tr>\n",
       "  </thead>\n",
       "  <tbody>\n",
       "    <tr>\n",
       "      <th>T-test</th>\n",
       "      <td>2.00976</td>\n",
       "      <td>198</td>\n",
       "      <td>two-sided</td>\n",
       "      <td>0.045814</td>\n",
       "      <td>[0.0, 0.28]</td>\n",
       "      <td>0.284223</td>\n",
       "      <td>1.008</td>\n",
       "      <td>0.516008</td>\n",
       "    </tr>\n",
       "  </tbody>\n",
       "</table>\n",
       "</div>"
      ],
      "text/plain": [
       "              T  dof alternative     p-val        CI95%   cohen-d   BF10  \\\n",
       "T-test  2.00976  198   two-sided  0.045814  [0.0, 0.28]  0.284223  1.008   \n",
       "\n",
       "           power  \n",
       "T-test  0.516008  "
      ]
     },
     "execution_count": 14,
     "metadata": {},
     "output_type": "execute_result"
    }
   ],
   "source": [
    "import pingouin as pg\n",
    "\n",
    "pg.ttest(x=one_hundred_races_with_64_wins, y=one_hundred_races_with_50_wins, paired=False)"
   ]
  },
  {
   "cell_type": "code",
   "execution_count": null,
   "id": "252df03d",
   "metadata": {},
   "outputs": [],
   "source": []
  }
 ],
 "metadata": {
  "kernelspec": {
   "display_name": ".venv",
   "language": "python",
   "name": "python3"
  },
  "language_info": {
   "codemirror_mode": {
    "name": "ipython",
    "version": 3
   },
   "file_extension": ".py",
   "mimetype": "text/x-python",
   "name": "python",
   "nbconvert_exporter": "python",
   "pygments_lexer": "ipython3",
   "version": "3.12.7"
  }
 },
 "nbformat": 4,
 "nbformat_minor": 5
}
